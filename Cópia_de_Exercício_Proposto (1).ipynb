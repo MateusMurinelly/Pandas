{
  "nbformat": 4,
  "nbformat_minor": 0,
  "metadata": {
    "colab": {
      "provenance": []
    },
    "kernelspec": {
      "name": "python3",
      "display_name": "Python 3"
    },
    "language_info": {
      "name": "python"
    }
  },
  "cells": [
    {
      "cell_type": "markdown",
      "source": [
        "# Respondendo as questões do CEO"
      ],
      "metadata": {
        "id": "eVlKGTQBmpJh"
      }
    },
    {
      "cell_type": "markdown",
      "source": [
        "Nosso CEO deseja saber algumas informações sobre o faturamento de vinhos. A equipe de vendas nos forneceu um dataset com alguns dados e precisamos extrair algumas informações para respondermos as questões"
      ],
      "metadata": {
        "id": "URfOfwkgncX6"
      }
    },
    {
      "cell_type": "markdown",
      "source": [
        "## Carregando o dataset"
      ],
      "metadata": {
        "id": "OP-nai8noJqC"
      }
    },
    {
      "cell_type": "code",
      "source": [
        "import pandas as pd"
      ],
      "metadata": {
        "id": "VbB_AUrRoRSL"
      },
      "execution_count": null,
      "outputs": []
    },
    {
      "cell_type": "code",
      "source": [
        "#puxando a base de dados\n",
        "dataset = 'https://raw.githubusercontent.com/rafaelpuyau/infinity_school/main/ds/datasets/wines.csv'\n",
        "df = pd.read_csv(dataset, parse_dates=['date'])\n",
        "df"
      ],
      "metadata": {
        "id": "qLGKqTm5oUBg",
        "colab": {
          "base_uri": "https://localhost:8080/",
          "height": 424
        },
        "outputId": "4d27d09a-f551-4bce-bcc4-0dfc9b4a94aa"
      },
      "execution_count": null,
      "outputs": [
        {
          "output_type": "execute_result",
          "data": {
            "text/plain": [
              "           date   label  vintage   style   country   price  quantity  rate\n",
              "0    2021-01-04  Wine K     2002   White  Portugal  144.22         9    97\n",
              "1    2021-03-11  Wine J     1982     Red  Portugal  244.80         3    76\n",
              "2    2021-10-02  Wine Y     2018  Orange    France   98.83         2    79\n",
              "3    2021-06-05  Wine I     1989     Red     Spain   59.64        11    77\n",
              "4    2021-09-06  Wine N     2006   White     Spain  187.70         6    91\n",
              "...         ...     ...      ...     ...       ...     ...       ...   ...\n",
              "9995 2021-08-07  Wine S     1983    Rose    France  264.69         6    89\n",
              "9996 2021-03-03  Wine S     1994    Rose     Spain   55.84         4   100\n",
              "9997 2021-12-28  Wine N     2001   White  Portugal  137.79        13    96\n",
              "9998 2021-06-19  Wine T     1988    Rose     Italy  100.29         9    83\n",
              "9999 2021-09-18  Wine V     1982   Sweet  Portugal   63.85        13   100\n",
              "\n",
              "[10000 rows x 8 columns]"
            ],
            "text/html": [
              "\n",
              "  <div id=\"df-08ac544e-f0f9-40cf-9d2f-1dad2c011afb\">\n",
              "    <div class=\"colab-df-container\">\n",
              "      <div>\n",
              "<style scoped>\n",
              "    .dataframe tbody tr th:only-of-type {\n",
              "        vertical-align: middle;\n",
              "    }\n",
              "\n",
              "    .dataframe tbody tr th {\n",
              "        vertical-align: top;\n",
              "    }\n",
              "\n",
              "    .dataframe thead th {\n",
              "        text-align: right;\n",
              "    }\n",
              "</style>\n",
              "<table border=\"1\" class=\"dataframe\">\n",
              "  <thead>\n",
              "    <tr style=\"text-align: right;\">\n",
              "      <th></th>\n",
              "      <th>date</th>\n",
              "      <th>label</th>\n",
              "      <th>vintage</th>\n",
              "      <th>style</th>\n",
              "      <th>country</th>\n",
              "      <th>price</th>\n",
              "      <th>quantity</th>\n",
              "      <th>rate</th>\n",
              "    </tr>\n",
              "  </thead>\n",
              "  <tbody>\n",
              "    <tr>\n",
              "      <th>0</th>\n",
              "      <td>2021-01-04</td>\n",
              "      <td>Wine K</td>\n",
              "      <td>2002</td>\n",
              "      <td>White</td>\n",
              "      <td>Portugal</td>\n",
              "      <td>144.22</td>\n",
              "      <td>9</td>\n",
              "      <td>97</td>\n",
              "    </tr>\n",
              "    <tr>\n",
              "      <th>1</th>\n",
              "      <td>2021-03-11</td>\n",
              "      <td>Wine J</td>\n",
              "      <td>1982</td>\n",
              "      <td>Red</td>\n",
              "      <td>Portugal</td>\n",
              "      <td>244.80</td>\n",
              "      <td>3</td>\n",
              "      <td>76</td>\n",
              "    </tr>\n",
              "    <tr>\n",
              "      <th>2</th>\n",
              "      <td>2021-10-02</td>\n",
              "      <td>Wine Y</td>\n",
              "      <td>2018</td>\n",
              "      <td>Orange</td>\n",
              "      <td>France</td>\n",
              "      <td>98.83</td>\n",
              "      <td>2</td>\n",
              "      <td>79</td>\n",
              "    </tr>\n",
              "    <tr>\n",
              "      <th>3</th>\n",
              "      <td>2021-06-05</td>\n",
              "      <td>Wine I</td>\n",
              "      <td>1989</td>\n",
              "      <td>Red</td>\n",
              "      <td>Spain</td>\n",
              "      <td>59.64</td>\n",
              "      <td>11</td>\n",
              "      <td>77</td>\n",
              "    </tr>\n",
              "    <tr>\n",
              "      <th>4</th>\n",
              "      <td>2021-09-06</td>\n",
              "      <td>Wine N</td>\n",
              "      <td>2006</td>\n",
              "      <td>White</td>\n",
              "      <td>Spain</td>\n",
              "      <td>187.70</td>\n",
              "      <td>6</td>\n",
              "      <td>91</td>\n",
              "    </tr>\n",
              "    <tr>\n",
              "      <th>...</th>\n",
              "      <td>...</td>\n",
              "      <td>...</td>\n",
              "      <td>...</td>\n",
              "      <td>...</td>\n",
              "      <td>...</td>\n",
              "      <td>...</td>\n",
              "      <td>...</td>\n",
              "      <td>...</td>\n",
              "    </tr>\n",
              "    <tr>\n",
              "      <th>9995</th>\n",
              "      <td>2021-08-07</td>\n",
              "      <td>Wine S</td>\n",
              "      <td>1983</td>\n",
              "      <td>Rose</td>\n",
              "      <td>France</td>\n",
              "      <td>264.69</td>\n",
              "      <td>6</td>\n",
              "      <td>89</td>\n",
              "    </tr>\n",
              "    <tr>\n",
              "      <th>9996</th>\n",
              "      <td>2021-03-03</td>\n",
              "      <td>Wine S</td>\n",
              "      <td>1994</td>\n",
              "      <td>Rose</td>\n",
              "      <td>Spain</td>\n",
              "      <td>55.84</td>\n",
              "      <td>4</td>\n",
              "      <td>100</td>\n",
              "    </tr>\n",
              "    <tr>\n",
              "      <th>9997</th>\n",
              "      <td>2021-12-28</td>\n",
              "      <td>Wine N</td>\n",
              "      <td>2001</td>\n",
              "      <td>White</td>\n",
              "      <td>Portugal</td>\n",
              "      <td>137.79</td>\n",
              "      <td>13</td>\n",
              "      <td>96</td>\n",
              "    </tr>\n",
              "    <tr>\n",
              "      <th>9998</th>\n",
              "      <td>2021-06-19</td>\n",
              "      <td>Wine T</td>\n",
              "      <td>1988</td>\n",
              "      <td>Rose</td>\n",
              "      <td>Italy</td>\n",
              "      <td>100.29</td>\n",
              "      <td>9</td>\n",
              "      <td>83</td>\n",
              "    </tr>\n",
              "    <tr>\n",
              "      <th>9999</th>\n",
              "      <td>2021-09-18</td>\n",
              "      <td>Wine V</td>\n",
              "      <td>1982</td>\n",
              "      <td>Sweet</td>\n",
              "      <td>Portugal</td>\n",
              "      <td>63.85</td>\n",
              "      <td>13</td>\n",
              "      <td>100</td>\n",
              "    </tr>\n",
              "  </tbody>\n",
              "</table>\n",
              "<p>10000 rows × 8 columns</p>\n",
              "</div>\n",
              "      <button class=\"colab-df-convert\" onclick=\"convertToInteractive('df-08ac544e-f0f9-40cf-9d2f-1dad2c011afb')\"\n",
              "              title=\"Convert this dataframe to an interactive table.\"\n",
              "              style=\"display:none;\">\n",
              "        \n",
              "  <svg xmlns=\"http://www.w3.org/2000/svg\" height=\"24px\"viewBox=\"0 0 24 24\"\n",
              "       width=\"24px\">\n",
              "    <path d=\"M0 0h24v24H0V0z\" fill=\"none\"/>\n",
              "    <path d=\"M18.56 5.44l.94 2.06.94-2.06 2.06-.94-2.06-.94-.94-2.06-.94 2.06-2.06.94zm-11 1L8.5 8.5l.94-2.06 2.06-.94-2.06-.94L8.5 2.5l-.94 2.06-2.06.94zm10 10l.94 2.06.94-2.06 2.06-.94-2.06-.94-.94-2.06-.94 2.06-2.06.94z\"/><path d=\"M17.41 7.96l-1.37-1.37c-.4-.4-.92-.59-1.43-.59-.52 0-1.04.2-1.43.59L10.3 9.45l-7.72 7.72c-.78.78-.78 2.05 0 2.83L4 21.41c.39.39.9.59 1.41.59.51 0 1.02-.2 1.41-.59l7.78-7.78 2.81-2.81c.8-.78.8-2.07 0-2.86zM5.41 20L4 18.59l7.72-7.72 1.47 1.35L5.41 20z\"/>\n",
              "  </svg>\n",
              "      </button>\n",
              "      \n",
              "  <style>\n",
              "    .colab-df-container {\n",
              "      display:flex;\n",
              "      flex-wrap:wrap;\n",
              "      gap: 12px;\n",
              "    }\n",
              "\n",
              "    .colab-df-convert {\n",
              "      background-color: #E8F0FE;\n",
              "      border: none;\n",
              "      border-radius: 50%;\n",
              "      cursor: pointer;\n",
              "      display: none;\n",
              "      fill: #1967D2;\n",
              "      height: 32px;\n",
              "      padding: 0 0 0 0;\n",
              "      width: 32px;\n",
              "    }\n",
              "\n",
              "    .colab-df-convert:hover {\n",
              "      background-color: #E2EBFA;\n",
              "      box-shadow: 0px 1px 2px rgba(60, 64, 67, 0.3), 0px 1px 3px 1px rgba(60, 64, 67, 0.15);\n",
              "      fill: #174EA6;\n",
              "    }\n",
              "\n",
              "    [theme=dark] .colab-df-convert {\n",
              "      background-color: #3B4455;\n",
              "      fill: #D2E3FC;\n",
              "    }\n",
              "\n",
              "    [theme=dark] .colab-df-convert:hover {\n",
              "      background-color: #434B5C;\n",
              "      box-shadow: 0px 1px 3px 1px rgba(0, 0, 0, 0.15);\n",
              "      filter: drop-shadow(0px 1px 2px rgba(0, 0, 0, 0.3));\n",
              "      fill: #FFFFFF;\n",
              "    }\n",
              "  </style>\n",
              "\n",
              "      <script>\n",
              "        const buttonEl =\n",
              "          document.querySelector('#df-08ac544e-f0f9-40cf-9d2f-1dad2c011afb button.colab-df-convert');\n",
              "        buttonEl.style.display =\n",
              "          google.colab.kernel.accessAllowed ? 'block' : 'none';\n",
              "\n",
              "        async function convertToInteractive(key) {\n",
              "          const element = document.querySelector('#df-08ac544e-f0f9-40cf-9d2f-1dad2c011afb');\n",
              "          const dataTable =\n",
              "            await google.colab.kernel.invokeFunction('convertToInteractive',\n",
              "                                                     [key], {});\n",
              "          if (!dataTable) return;\n",
              "\n",
              "          const docLinkHtml = 'Like what you see? Visit the ' +\n",
              "            '<a target=\"_blank\" href=https://colab.research.google.com/notebooks/data_table.ipynb>data table notebook</a>'\n",
              "            + ' to learn more about interactive tables.';\n",
              "          element.innerHTML = '';\n",
              "          dataTable['output_type'] = 'display_data';\n",
              "          await google.colab.output.renderOutput(dataTable, element);\n",
              "          const docLink = document.createElement('div');\n",
              "          docLink.innerHTML = docLinkHtml;\n",
              "          element.appendChild(docLink);\n",
              "        }\n",
              "      </script>\n",
              "    </div>\n",
              "  </div>\n",
              "  "
            ]
          },
          "metadata": {},
          "execution_count": 152
        }
      ]
    },
    {
      "cell_type": "code",
      "source": [
        "df.dtypes"
      ],
      "metadata": {
        "id": "YbWWh5DsBZA5",
        "colab": {
          "base_uri": "https://localhost:8080/"
        },
        "outputId": "71470e90-5a7d-4c03-b2a5-55785ea0479e"
      },
      "execution_count": null,
      "outputs": [
        {
          "output_type": "execute_result",
          "data": {
            "text/plain": [
              "date        datetime64[ns]\n",
              "label               object\n",
              "vintage              int64\n",
              "style               object\n",
              "country             object\n",
              "price              float64\n",
              "quantity             int64\n",
              "rate                 int64\n",
              "dtype: object"
            ]
          },
          "metadata": {},
          "execution_count": 153
        }
      ]
    },
    {
      "cell_type": "code",
      "source": [
        "df['date'] = df['date'].map(lambda dt: dt.strftime('%d/%m/%Y'))"
      ],
      "metadata": {
        "id": "zoXvH1tsBeB4"
      },
      "execution_count": null,
      "outputs": []
    },
    {
      "cell_type": "code",
      "source": [
        "df.sample(5)"
      ],
      "metadata": {
        "id": "0mhRzJYwopT2",
        "colab": {
          "base_uri": "https://localhost:8080/",
          "height": 206
        },
        "outputId": "115ec74c-1a2c-4405-c005-9cda6e4e0d96"
      },
      "execution_count": null,
      "outputs": [
        {
          "output_type": "execute_result",
          "data": {
            "text/plain": [
              "            date   label  vintage      style  country   price  quantity  rate\n",
              "540   07/02/2021  Wine J     2021        Red  Uruguay   99.62         3    80\n",
              "6289  19/06/2021  Wine R     2016  Sparkling      USA  244.05         3    91\n",
              "3151  27/09/2021  Wine O     1987      White    Italy  150.58         2    92\n",
              "5389  09/09/2021  Wine S     2000       Rose  Germany  134.87         6    94\n",
              "3378  08/02/2021  Wine K     1986      White    Chile   50.73        14    97"
            ],
            "text/html": [
              "\n",
              "  <div id=\"df-c58211e3-6baf-4720-aa3e-3ad3c17f172b\">\n",
              "    <div class=\"colab-df-container\">\n",
              "      <div>\n",
              "<style scoped>\n",
              "    .dataframe tbody tr th:only-of-type {\n",
              "        vertical-align: middle;\n",
              "    }\n",
              "\n",
              "    .dataframe tbody tr th {\n",
              "        vertical-align: top;\n",
              "    }\n",
              "\n",
              "    .dataframe thead th {\n",
              "        text-align: right;\n",
              "    }\n",
              "</style>\n",
              "<table border=\"1\" class=\"dataframe\">\n",
              "  <thead>\n",
              "    <tr style=\"text-align: right;\">\n",
              "      <th></th>\n",
              "      <th>date</th>\n",
              "      <th>label</th>\n",
              "      <th>vintage</th>\n",
              "      <th>style</th>\n",
              "      <th>country</th>\n",
              "      <th>price</th>\n",
              "      <th>quantity</th>\n",
              "      <th>rate</th>\n",
              "    </tr>\n",
              "  </thead>\n",
              "  <tbody>\n",
              "    <tr>\n",
              "      <th>540</th>\n",
              "      <td>07/02/2021</td>\n",
              "      <td>Wine J</td>\n",
              "      <td>2021</td>\n",
              "      <td>Red</td>\n",
              "      <td>Uruguay</td>\n",
              "      <td>99.62</td>\n",
              "      <td>3</td>\n",
              "      <td>80</td>\n",
              "    </tr>\n",
              "    <tr>\n",
              "      <th>6289</th>\n",
              "      <td>19/06/2021</td>\n",
              "      <td>Wine R</td>\n",
              "      <td>2016</td>\n",
              "      <td>Sparkling</td>\n",
              "      <td>USA</td>\n",
              "      <td>244.05</td>\n",
              "      <td>3</td>\n",
              "      <td>91</td>\n",
              "    </tr>\n",
              "    <tr>\n",
              "      <th>3151</th>\n",
              "      <td>27/09/2021</td>\n",
              "      <td>Wine O</td>\n",
              "      <td>1987</td>\n",
              "      <td>White</td>\n",
              "      <td>Italy</td>\n",
              "      <td>150.58</td>\n",
              "      <td>2</td>\n",
              "      <td>92</td>\n",
              "    </tr>\n",
              "    <tr>\n",
              "      <th>5389</th>\n",
              "      <td>09/09/2021</td>\n",
              "      <td>Wine S</td>\n",
              "      <td>2000</td>\n",
              "      <td>Rose</td>\n",
              "      <td>Germany</td>\n",
              "      <td>134.87</td>\n",
              "      <td>6</td>\n",
              "      <td>94</td>\n",
              "    </tr>\n",
              "    <tr>\n",
              "      <th>3378</th>\n",
              "      <td>08/02/2021</td>\n",
              "      <td>Wine K</td>\n",
              "      <td>1986</td>\n",
              "      <td>White</td>\n",
              "      <td>Chile</td>\n",
              "      <td>50.73</td>\n",
              "      <td>14</td>\n",
              "      <td>97</td>\n",
              "    </tr>\n",
              "  </tbody>\n",
              "</table>\n",
              "</div>\n",
              "      <button class=\"colab-df-convert\" onclick=\"convertToInteractive('df-c58211e3-6baf-4720-aa3e-3ad3c17f172b')\"\n",
              "              title=\"Convert this dataframe to an interactive table.\"\n",
              "              style=\"display:none;\">\n",
              "        \n",
              "  <svg xmlns=\"http://www.w3.org/2000/svg\" height=\"24px\"viewBox=\"0 0 24 24\"\n",
              "       width=\"24px\">\n",
              "    <path d=\"M0 0h24v24H0V0z\" fill=\"none\"/>\n",
              "    <path d=\"M18.56 5.44l.94 2.06.94-2.06 2.06-.94-2.06-.94-.94-2.06-.94 2.06-2.06.94zm-11 1L8.5 8.5l.94-2.06 2.06-.94-2.06-.94L8.5 2.5l-.94 2.06-2.06.94zm10 10l.94 2.06.94-2.06 2.06-.94-2.06-.94-.94-2.06-.94 2.06-2.06.94z\"/><path d=\"M17.41 7.96l-1.37-1.37c-.4-.4-.92-.59-1.43-.59-.52 0-1.04.2-1.43.59L10.3 9.45l-7.72 7.72c-.78.78-.78 2.05 0 2.83L4 21.41c.39.39.9.59 1.41.59.51 0 1.02-.2 1.41-.59l7.78-7.78 2.81-2.81c.8-.78.8-2.07 0-2.86zM5.41 20L4 18.59l7.72-7.72 1.47 1.35L5.41 20z\"/>\n",
              "  </svg>\n",
              "      </button>\n",
              "      \n",
              "  <style>\n",
              "    .colab-df-container {\n",
              "      display:flex;\n",
              "      flex-wrap:wrap;\n",
              "      gap: 12px;\n",
              "    }\n",
              "\n",
              "    .colab-df-convert {\n",
              "      background-color: #E8F0FE;\n",
              "      border: none;\n",
              "      border-radius: 50%;\n",
              "      cursor: pointer;\n",
              "      display: none;\n",
              "      fill: #1967D2;\n",
              "      height: 32px;\n",
              "      padding: 0 0 0 0;\n",
              "      width: 32px;\n",
              "    }\n",
              "\n",
              "    .colab-df-convert:hover {\n",
              "      background-color: #E2EBFA;\n",
              "      box-shadow: 0px 1px 2px rgba(60, 64, 67, 0.3), 0px 1px 3px 1px rgba(60, 64, 67, 0.15);\n",
              "      fill: #174EA6;\n",
              "    }\n",
              "\n",
              "    [theme=dark] .colab-df-convert {\n",
              "      background-color: #3B4455;\n",
              "      fill: #D2E3FC;\n",
              "    }\n",
              "\n",
              "    [theme=dark] .colab-df-convert:hover {\n",
              "      background-color: #434B5C;\n",
              "      box-shadow: 0px 1px 3px 1px rgba(0, 0, 0, 0.15);\n",
              "      filter: drop-shadow(0px 1px 2px rgba(0, 0, 0, 0.3));\n",
              "      fill: #FFFFFF;\n",
              "    }\n",
              "  </style>\n",
              "\n",
              "      <script>\n",
              "        const buttonEl =\n",
              "          document.querySelector('#df-c58211e3-6baf-4720-aa3e-3ad3c17f172b button.colab-df-convert');\n",
              "        buttonEl.style.display =\n",
              "          google.colab.kernel.accessAllowed ? 'block' : 'none';\n",
              "\n",
              "        async function convertToInteractive(key) {\n",
              "          const element = document.querySelector('#df-c58211e3-6baf-4720-aa3e-3ad3c17f172b');\n",
              "          const dataTable =\n",
              "            await google.colab.kernel.invokeFunction('convertToInteractive',\n",
              "                                                     [key], {});\n",
              "          if (!dataTable) return;\n",
              "\n",
              "          const docLinkHtml = 'Like what you see? Visit the ' +\n",
              "            '<a target=\"_blank\" href=https://colab.research.google.com/notebooks/data_table.ipynb>data table notebook</a>'\n",
              "            + ' to learn more about interactive tables.';\n",
              "          element.innerHTML = '';\n",
              "          dataTable['output_type'] = 'display_data';\n",
              "          await google.colab.output.renderOutput(dataTable, element);\n",
              "          const docLink = document.createElement('div');\n",
              "          docLink.innerHTML = docLinkHtml;\n",
              "          element.appendChild(docLink);\n",
              "        }\n",
              "      </script>\n",
              "    </div>\n",
              "  </div>\n",
              "  "
            ]
          },
          "metadata": {},
          "execution_count": 155
        }
      ]
    },
    {
      "cell_type": "markdown",
      "source": [
        "## Perguntas do CEO"
      ],
      "metadata": {
        "id": "w19DhxV2oxHd"
      }
    },
    {
      "cell_type": "markdown",
      "source": [
        "### 1. Quanto custa o vinho mais caro?"
      ],
      "metadata": {
        "id": "uhAP6z1doze0"
      }
    },
    {
      "cell_type": "code",
      "source": [
        "df['price'].max()\n"
      ],
      "metadata": {
        "id": "Tj0WmzO-EZIv",
        "colab": {
          "base_uri": "https://localhost:8080/"
        },
        "outputId": "16ca798e-e5da-4fb3-f5bd-db74548cbdd1"
      },
      "execution_count": null,
      "outputs": [
        {
          "output_type": "execute_result",
          "data": {
            "text/plain": [
              "1107.89"
            ]
          },
          "metadata": {},
          "execution_count": 156
        }
      ]
    },
    {
      "cell_type": "markdown",
      "source": [
        "### 2. Quanto custa o vinho mais barato?"
      ],
      "metadata": {
        "id": "77LGdGxGpjb_"
      }
    },
    {
      "cell_type": "code",
      "source": [
        "df['price'].min()"
      ],
      "metadata": {
        "id": "VsgR4oceEhMv",
        "colab": {
          "base_uri": "https://localhost:8080/"
        },
        "outputId": "559fd777-4069-4d55-d8d8-fcd39dc884d8"
      },
      "execution_count": null,
      "outputs": [
        {
          "output_type": "execute_result",
          "data": {
            "text/plain": [
              "50.01"
            ]
          },
          "metadata": {},
          "execution_count": 157
        }
      ]
    },
    {
      "cell_type": "markdown",
      "source": [
        "### 3. Qual o vinho mais caro?"
      ],
      "metadata": {
        "id": "H0Q1_sdspnLW"
      }
    },
    {
      "cell_type": "code",
      "source": [
        "df.loc[:'price'].max()"
      ],
      "metadata": {
        "id": "aNVSiLfFEqRi",
        "colab": {
          "base_uri": "https://localhost:8080/"
        },
        "outputId": "3e94a35b-9843-4ae8-af12-e46ec0d6f771"
      },
      "execution_count": null,
      "outputs": [
        {
          "output_type": "execute_result",
          "data": {
            "text/plain": [
              "date        31/12/2021\n",
              "label           Wine Z\n",
              "vintage           2021\n",
              "style            White\n",
              "country        Uruguay\n",
              "price          1107.89\n",
              "quantity            15\n",
              "rate               100\n",
              "dtype: object"
            ]
          },
          "metadata": {},
          "execution_count": 158
        }
      ]
    },
    {
      "cell_type": "markdown",
      "source": [
        "### 4. Qual o vinho mais barato?"
      ],
      "metadata": {
        "id": "oEyZJS0gpv93"
      }
    },
    {
      "cell_type": "code",
      "source": [
        "df.loc[:'price'].min()"
      ],
      "metadata": {
        "id": "kUEOSjaCFC9b",
        "colab": {
          "base_uri": "https://localhost:8080/"
        },
        "outputId": "7e195806-8fc1-4f5d-8193-5f10cde3c56d"
      },
      "execution_count": null,
      "outputs": [
        {
          "output_type": "execute_result",
          "data": {
            "text/plain": [
              "date        01/01/2021\n",
              "label           Wine A\n",
              "vintage           1982\n",
              "style           Orange\n",
              "country      Argentina\n",
              "price            50.01\n",
              "quantity             1\n",
              "rate                75\n",
              "dtype: object"
            ]
          },
          "metadata": {},
          "execution_count": 159
        }
      ]
    },
    {
      "cell_type": "markdown",
      "source": [
        "### 5. Quanto foi vendido em 2021?"
      ],
      "metadata": {
        "id": "oWOTgL9Xp_dV"
      }
    },
    {
      "cell_type": "code",
      "source": [
        "df['sub-total'] = df['price']*df['quantity']\n",
        "faturamento = f'R${df[\"sub-total\"].sum():,.2f}'\n",
        "faturamento"
      ],
      "metadata": {
        "id": "nFPXyPsMFOQC",
        "colab": {
          "base_uri": "https://localhost:8080/",
          "height": 35
        },
        "outputId": "ff5f6bad-db26-4163-9be6-d5714522893e"
      },
      "execution_count": null,
      "outputs": [
        {
          "output_type": "execute_result",
          "data": {
            "text/plain": [
              "'R$16,991,676.32'"
            ],
            "application/vnd.google.colaboratory.intrinsic+json": {
              "type": "string"
            }
          },
          "metadata": {},
          "execution_count": 160
        }
      ]
    },
    {
      "cell_type": "markdown",
      "source": [
        "### 6. Quantas garrafas no total?"
      ],
      "metadata": {
        "id": "e-4EIEA7qC-h"
      }
    },
    {
      "cell_type": "code",
      "source": [
        "df['quantity'].sum()"
      ],
      "metadata": {
        "id": "g_nRPt_vF9_1",
        "colab": {
          "base_uri": "https://localhost:8080/"
        },
        "outputId": "36d35298-b4c1-447a-fadd-128b68757f27"
      },
      "execution_count": null,
      "outputs": [
        {
          "output_type": "execute_result",
          "data": {
            "text/plain": [
              "80155"
            ]
          },
          "metadata": {},
          "execution_count": 161
        }
      ]
    },
    {
      "cell_type": "markdown",
      "source": [
        "### 7. Qual vinho teve a maior nota?"
      ],
      "metadata": {
        "id": "2K8q9KnMqKUa"
      }
    },
    {
      "cell_type": "code",
      "source": [
        "maior_n = df['rate'] == 100\n",
        "df.loc[maior_n]"
      ],
      "metadata": {
        "id": "6doCnUZwGFOx",
        "colab": {
          "base_uri": "https://localhost:8080/",
          "height": 424
        },
        "outputId": "e31cdb57-79c2-4199-a1e1-8e0d21171f04"
      },
      "execution_count": null,
      "outputs": [
        {
          "output_type": "execute_result",
          "data": {
            "text/plain": [
              "            date   label  vintage      style    country   price  quantity  \\\n",
              "23    06/05/2021  Wine L     2006      White   Portugal  451.14        12   \n",
              "39    19/05/2021  Wine X     2000      Sweet      Italy   86.54         2   \n",
              "76    09/06/2021  Wine G     2000        Red      Chile  146.67         9   \n",
              "91    13/06/2021  Wine Y     1994     Orange  Argentina  479.30        10   \n",
              "218   11/05/2021  Wine Y     2005     Orange      Italy  196.25         5   \n",
              "...          ...     ...      ...        ...        ...     ...       ...   \n",
              "9968  15/01/2021  Wine X     2007      Sweet        USA   67.97         7   \n",
              "9971  07/06/2021  Wine P     2005  Sparkling    Germany  147.44        15   \n",
              "9979  29/11/2021  Wine Z     1993     Orange      Spain   96.17        13   \n",
              "9996  03/03/2021  Wine S     1994       Rose      Spain   55.84         4   \n",
              "9999  18/09/2021  Wine V     1982      Sweet   Portugal   63.85        13   \n",
              "\n",
              "      rate  sub-total  \n",
              "23     100    5413.68  \n",
              "39     100     173.08  \n",
              "76     100    1320.03  \n",
              "91     100    4793.00  \n",
              "218    100     981.25  \n",
              "...    ...        ...  \n",
              "9968   100     475.79  \n",
              "9971   100    2211.60  \n",
              "9979   100    1250.21  \n",
              "9996   100     223.36  \n",
              "9999   100     830.05  \n",
              "\n",
              "[383 rows x 9 columns]"
            ],
            "text/html": [
              "\n",
              "  <div id=\"df-855978f7-a775-4363-98aa-4d6513875026\">\n",
              "    <div class=\"colab-df-container\">\n",
              "      <div>\n",
              "<style scoped>\n",
              "    .dataframe tbody tr th:only-of-type {\n",
              "        vertical-align: middle;\n",
              "    }\n",
              "\n",
              "    .dataframe tbody tr th {\n",
              "        vertical-align: top;\n",
              "    }\n",
              "\n",
              "    .dataframe thead th {\n",
              "        text-align: right;\n",
              "    }\n",
              "</style>\n",
              "<table border=\"1\" class=\"dataframe\">\n",
              "  <thead>\n",
              "    <tr style=\"text-align: right;\">\n",
              "      <th></th>\n",
              "      <th>date</th>\n",
              "      <th>label</th>\n",
              "      <th>vintage</th>\n",
              "      <th>style</th>\n",
              "      <th>country</th>\n",
              "      <th>price</th>\n",
              "      <th>quantity</th>\n",
              "      <th>rate</th>\n",
              "      <th>sub-total</th>\n",
              "    </tr>\n",
              "  </thead>\n",
              "  <tbody>\n",
              "    <tr>\n",
              "      <th>23</th>\n",
              "      <td>06/05/2021</td>\n",
              "      <td>Wine L</td>\n",
              "      <td>2006</td>\n",
              "      <td>White</td>\n",
              "      <td>Portugal</td>\n",
              "      <td>451.14</td>\n",
              "      <td>12</td>\n",
              "      <td>100</td>\n",
              "      <td>5413.68</td>\n",
              "    </tr>\n",
              "    <tr>\n",
              "      <th>39</th>\n",
              "      <td>19/05/2021</td>\n",
              "      <td>Wine X</td>\n",
              "      <td>2000</td>\n",
              "      <td>Sweet</td>\n",
              "      <td>Italy</td>\n",
              "      <td>86.54</td>\n",
              "      <td>2</td>\n",
              "      <td>100</td>\n",
              "      <td>173.08</td>\n",
              "    </tr>\n",
              "    <tr>\n",
              "      <th>76</th>\n",
              "      <td>09/06/2021</td>\n",
              "      <td>Wine G</td>\n",
              "      <td>2000</td>\n",
              "      <td>Red</td>\n",
              "      <td>Chile</td>\n",
              "      <td>146.67</td>\n",
              "      <td>9</td>\n",
              "      <td>100</td>\n",
              "      <td>1320.03</td>\n",
              "    </tr>\n",
              "    <tr>\n",
              "      <th>91</th>\n",
              "      <td>13/06/2021</td>\n",
              "      <td>Wine Y</td>\n",
              "      <td>1994</td>\n",
              "      <td>Orange</td>\n",
              "      <td>Argentina</td>\n",
              "      <td>479.30</td>\n",
              "      <td>10</td>\n",
              "      <td>100</td>\n",
              "      <td>4793.00</td>\n",
              "    </tr>\n",
              "    <tr>\n",
              "      <th>218</th>\n",
              "      <td>11/05/2021</td>\n",
              "      <td>Wine Y</td>\n",
              "      <td>2005</td>\n",
              "      <td>Orange</td>\n",
              "      <td>Italy</td>\n",
              "      <td>196.25</td>\n",
              "      <td>5</td>\n",
              "      <td>100</td>\n",
              "      <td>981.25</td>\n",
              "    </tr>\n",
              "    <tr>\n",
              "      <th>...</th>\n",
              "      <td>...</td>\n",
              "      <td>...</td>\n",
              "      <td>...</td>\n",
              "      <td>...</td>\n",
              "      <td>...</td>\n",
              "      <td>...</td>\n",
              "      <td>...</td>\n",
              "      <td>...</td>\n",
              "      <td>...</td>\n",
              "    </tr>\n",
              "    <tr>\n",
              "      <th>9968</th>\n",
              "      <td>15/01/2021</td>\n",
              "      <td>Wine X</td>\n",
              "      <td>2007</td>\n",
              "      <td>Sweet</td>\n",
              "      <td>USA</td>\n",
              "      <td>67.97</td>\n",
              "      <td>7</td>\n",
              "      <td>100</td>\n",
              "      <td>475.79</td>\n",
              "    </tr>\n",
              "    <tr>\n",
              "      <th>9971</th>\n",
              "      <td>07/06/2021</td>\n",
              "      <td>Wine P</td>\n",
              "      <td>2005</td>\n",
              "      <td>Sparkling</td>\n",
              "      <td>Germany</td>\n",
              "      <td>147.44</td>\n",
              "      <td>15</td>\n",
              "      <td>100</td>\n",
              "      <td>2211.60</td>\n",
              "    </tr>\n",
              "    <tr>\n",
              "      <th>9979</th>\n",
              "      <td>29/11/2021</td>\n",
              "      <td>Wine Z</td>\n",
              "      <td>1993</td>\n",
              "      <td>Orange</td>\n",
              "      <td>Spain</td>\n",
              "      <td>96.17</td>\n",
              "      <td>13</td>\n",
              "      <td>100</td>\n",
              "      <td>1250.21</td>\n",
              "    </tr>\n",
              "    <tr>\n",
              "      <th>9996</th>\n",
              "      <td>03/03/2021</td>\n",
              "      <td>Wine S</td>\n",
              "      <td>1994</td>\n",
              "      <td>Rose</td>\n",
              "      <td>Spain</td>\n",
              "      <td>55.84</td>\n",
              "      <td>4</td>\n",
              "      <td>100</td>\n",
              "      <td>223.36</td>\n",
              "    </tr>\n",
              "    <tr>\n",
              "      <th>9999</th>\n",
              "      <td>18/09/2021</td>\n",
              "      <td>Wine V</td>\n",
              "      <td>1982</td>\n",
              "      <td>Sweet</td>\n",
              "      <td>Portugal</td>\n",
              "      <td>63.85</td>\n",
              "      <td>13</td>\n",
              "      <td>100</td>\n",
              "      <td>830.05</td>\n",
              "    </tr>\n",
              "  </tbody>\n",
              "</table>\n",
              "<p>383 rows × 9 columns</p>\n",
              "</div>\n",
              "      <button class=\"colab-df-convert\" onclick=\"convertToInteractive('df-855978f7-a775-4363-98aa-4d6513875026')\"\n",
              "              title=\"Convert this dataframe to an interactive table.\"\n",
              "              style=\"display:none;\">\n",
              "        \n",
              "  <svg xmlns=\"http://www.w3.org/2000/svg\" height=\"24px\"viewBox=\"0 0 24 24\"\n",
              "       width=\"24px\">\n",
              "    <path d=\"M0 0h24v24H0V0z\" fill=\"none\"/>\n",
              "    <path d=\"M18.56 5.44l.94 2.06.94-2.06 2.06-.94-2.06-.94-.94-2.06-.94 2.06-2.06.94zm-11 1L8.5 8.5l.94-2.06 2.06-.94-2.06-.94L8.5 2.5l-.94 2.06-2.06.94zm10 10l.94 2.06.94-2.06 2.06-.94-2.06-.94-.94-2.06-.94 2.06-2.06.94z\"/><path d=\"M17.41 7.96l-1.37-1.37c-.4-.4-.92-.59-1.43-.59-.52 0-1.04.2-1.43.59L10.3 9.45l-7.72 7.72c-.78.78-.78 2.05 0 2.83L4 21.41c.39.39.9.59 1.41.59.51 0 1.02-.2 1.41-.59l7.78-7.78 2.81-2.81c.8-.78.8-2.07 0-2.86zM5.41 20L4 18.59l7.72-7.72 1.47 1.35L5.41 20z\"/>\n",
              "  </svg>\n",
              "      </button>\n",
              "      \n",
              "  <style>\n",
              "    .colab-df-container {\n",
              "      display:flex;\n",
              "      flex-wrap:wrap;\n",
              "      gap: 12px;\n",
              "    }\n",
              "\n",
              "    .colab-df-convert {\n",
              "      background-color: #E8F0FE;\n",
              "      border: none;\n",
              "      border-radius: 50%;\n",
              "      cursor: pointer;\n",
              "      display: none;\n",
              "      fill: #1967D2;\n",
              "      height: 32px;\n",
              "      padding: 0 0 0 0;\n",
              "      width: 32px;\n",
              "    }\n",
              "\n",
              "    .colab-df-convert:hover {\n",
              "      background-color: #E2EBFA;\n",
              "      box-shadow: 0px 1px 2px rgba(60, 64, 67, 0.3), 0px 1px 3px 1px rgba(60, 64, 67, 0.15);\n",
              "      fill: #174EA6;\n",
              "    }\n",
              "\n",
              "    [theme=dark] .colab-df-convert {\n",
              "      background-color: #3B4455;\n",
              "      fill: #D2E3FC;\n",
              "    }\n",
              "\n",
              "    [theme=dark] .colab-df-convert:hover {\n",
              "      background-color: #434B5C;\n",
              "      box-shadow: 0px 1px 3px 1px rgba(0, 0, 0, 0.15);\n",
              "      filter: drop-shadow(0px 1px 2px rgba(0, 0, 0, 0.3));\n",
              "      fill: #FFFFFF;\n",
              "    }\n",
              "  </style>\n",
              "\n",
              "      <script>\n",
              "        const buttonEl =\n",
              "          document.querySelector('#df-855978f7-a775-4363-98aa-4d6513875026 button.colab-df-convert');\n",
              "        buttonEl.style.display =\n",
              "          google.colab.kernel.accessAllowed ? 'block' : 'none';\n",
              "\n",
              "        async function convertToInteractive(key) {\n",
              "          const element = document.querySelector('#df-855978f7-a775-4363-98aa-4d6513875026');\n",
              "          const dataTable =\n",
              "            await google.colab.kernel.invokeFunction('convertToInteractive',\n",
              "                                                     [key], {});\n",
              "          if (!dataTable) return;\n",
              "\n",
              "          const docLinkHtml = 'Like what you see? Visit the ' +\n",
              "            '<a target=\"_blank\" href=https://colab.research.google.com/notebooks/data_table.ipynb>data table notebook</a>'\n",
              "            + ' to learn more about interactive tables.';\n",
              "          element.innerHTML = '';\n",
              "          dataTable['output_type'] = 'display_data';\n",
              "          await google.colab.output.renderOutput(dataTable, element);\n",
              "          const docLink = document.createElement('div');\n",
              "          docLink.innerHTML = docLinkHtml;\n",
              "          element.appendChild(docLink);\n",
              "        }\n",
              "      </script>\n",
              "    </div>\n",
              "  </div>\n",
              "  "
            ]
          },
          "metadata": {},
          "execution_count": 162
        }
      ]
    },
    {
      "cell_type": "markdown",
      "source": [
        "### 8. Qual vinho teve a menor nota?"
      ],
      "metadata": {
        "id": "cFH7nJvaqOOI"
      }
    },
    {
      "cell_type": "markdown",
      "source": [
        "#### Gabarito"
      ],
      "metadata": {
        "id": "MVn0uMQ0IDp8"
      }
    },
    {
      "cell_type": "code",
      "source": [
        "menor_n = df['rate'] == 75\n",
        "df.loc[menor_n]"
      ],
      "metadata": {
        "id": "rtI3GAEfIFHp",
        "colab": {
          "base_uri": "https://localhost:8080/",
          "height": 424
        },
        "outputId": "fc1370de-e764-4b59-9ec7-e603b3a76995"
      },
      "execution_count": null,
      "outputs": [
        {
          "output_type": "execute_result",
          "data": {
            "text/plain": [
              "            date   label  vintage   style    country   price  quantity  rate  \\\n",
              "13    22/04/2021  Wine N     2019   White    Uruguay  229.17         8    75   \n",
              "20    04/03/2021  Wine T     1984    Rose      Italy  188.16         3    75   \n",
              "52    28/11/2021  Wine W     2021   Sweet   Portugal  377.73        13    75   \n",
              "61    05/12/2021  Wine V     2020   Sweet        USA  274.18         5    75   \n",
              "95    11/07/2021  Wine C     1988     Red     France  409.73         7    75   \n",
              "...          ...     ...      ...     ...        ...     ...       ...   ...   \n",
              "9953  21/06/2021  Wine Z     1995  Orange      Chile  413.03         8    75   \n",
              "9961  21/04/2021  Wine N     1997   White   Portugal  167.44         2    75   \n",
              "9967  25/07/2021  Wine X     2019   Sweet  Argentina  262.55         1    75   \n",
              "9976  13/02/2021  Wine I     1996     Red   Portugal  179.73        12    75   \n",
              "9990  16/11/2021  Wine B     1993     Red  Argentina  133.29         8    75   \n",
              "\n",
              "      sub-total  \n",
              "13      1833.36  \n",
              "20       564.48  \n",
              "52      4910.49  \n",
              "61      1370.90  \n",
              "95      2868.11  \n",
              "...         ...  \n",
              "9953    3304.24  \n",
              "9961     334.88  \n",
              "9967     262.55  \n",
              "9976    2156.76  \n",
              "9990    1066.32  \n",
              "\n",
              "[365 rows x 9 columns]"
            ],
            "text/html": [
              "\n",
              "  <div id=\"df-f4053de2-b7ea-41e2-9501-d2f126b5921d\">\n",
              "    <div class=\"colab-df-container\">\n",
              "      <div>\n",
              "<style scoped>\n",
              "    .dataframe tbody tr th:only-of-type {\n",
              "        vertical-align: middle;\n",
              "    }\n",
              "\n",
              "    .dataframe tbody tr th {\n",
              "        vertical-align: top;\n",
              "    }\n",
              "\n",
              "    .dataframe thead th {\n",
              "        text-align: right;\n",
              "    }\n",
              "</style>\n",
              "<table border=\"1\" class=\"dataframe\">\n",
              "  <thead>\n",
              "    <tr style=\"text-align: right;\">\n",
              "      <th></th>\n",
              "      <th>date</th>\n",
              "      <th>label</th>\n",
              "      <th>vintage</th>\n",
              "      <th>style</th>\n",
              "      <th>country</th>\n",
              "      <th>price</th>\n",
              "      <th>quantity</th>\n",
              "      <th>rate</th>\n",
              "      <th>sub-total</th>\n",
              "    </tr>\n",
              "  </thead>\n",
              "  <tbody>\n",
              "    <tr>\n",
              "      <th>13</th>\n",
              "      <td>22/04/2021</td>\n",
              "      <td>Wine N</td>\n",
              "      <td>2019</td>\n",
              "      <td>White</td>\n",
              "      <td>Uruguay</td>\n",
              "      <td>229.17</td>\n",
              "      <td>8</td>\n",
              "      <td>75</td>\n",
              "      <td>1833.36</td>\n",
              "    </tr>\n",
              "    <tr>\n",
              "      <th>20</th>\n",
              "      <td>04/03/2021</td>\n",
              "      <td>Wine T</td>\n",
              "      <td>1984</td>\n",
              "      <td>Rose</td>\n",
              "      <td>Italy</td>\n",
              "      <td>188.16</td>\n",
              "      <td>3</td>\n",
              "      <td>75</td>\n",
              "      <td>564.48</td>\n",
              "    </tr>\n",
              "    <tr>\n",
              "      <th>52</th>\n",
              "      <td>28/11/2021</td>\n",
              "      <td>Wine W</td>\n",
              "      <td>2021</td>\n",
              "      <td>Sweet</td>\n",
              "      <td>Portugal</td>\n",
              "      <td>377.73</td>\n",
              "      <td>13</td>\n",
              "      <td>75</td>\n",
              "      <td>4910.49</td>\n",
              "    </tr>\n",
              "    <tr>\n",
              "      <th>61</th>\n",
              "      <td>05/12/2021</td>\n",
              "      <td>Wine V</td>\n",
              "      <td>2020</td>\n",
              "      <td>Sweet</td>\n",
              "      <td>USA</td>\n",
              "      <td>274.18</td>\n",
              "      <td>5</td>\n",
              "      <td>75</td>\n",
              "      <td>1370.90</td>\n",
              "    </tr>\n",
              "    <tr>\n",
              "      <th>95</th>\n",
              "      <td>11/07/2021</td>\n",
              "      <td>Wine C</td>\n",
              "      <td>1988</td>\n",
              "      <td>Red</td>\n",
              "      <td>France</td>\n",
              "      <td>409.73</td>\n",
              "      <td>7</td>\n",
              "      <td>75</td>\n",
              "      <td>2868.11</td>\n",
              "    </tr>\n",
              "    <tr>\n",
              "      <th>...</th>\n",
              "      <td>...</td>\n",
              "      <td>...</td>\n",
              "      <td>...</td>\n",
              "      <td>...</td>\n",
              "      <td>...</td>\n",
              "      <td>...</td>\n",
              "      <td>...</td>\n",
              "      <td>...</td>\n",
              "      <td>...</td>\n",
              "    </tr>\n",
              "    <tr>\n",
              "      <th>9953</th>\n",
              "      <td>21/06/2021</td>\n",
              "      <td>Wine Z</td>\n",
              "      <td>1995</td>\n",
              "      <td>Orange</td>\n",
              "      <td>Chile</td>\n",
              "      <td>413.03</td>\n",
              "      <td>8</td>\n",
              "      <td>75</td>\n",
              "      <td>3304.24</td>\n",
              "    </tr>\n",
              "    <tr>\n",
              "      <th>9961</th>\n",
              "      <td>21/04/2021</td>\n",
              "      <td>Wine N</td>\n",
              "      <td>1997</td>\n",
              "      <td>White</td>\n",
              "      <td>Portugal</td>\n",
              "      <td>167.44</td>\n",
              "      <td>2</td>\n",
              "      <td>75</td>\n",
              "      <td>334.88</td>\n",
              "    </tr>\n",
              "    <tr>\n",
              "      <th>9967</th>\n",
              "      <td>25/07/2021</td>\n",
              "      <td>Wine X</td>\n",
              "      <td>2019</td>\n",
              "      <td>Sweet</td>\n",
              "      <td>Argentina</td>\n",
              "      <td>262.55</td>\n",
              "      <td>1</td>\n",
              "      <td>75</td>\n",
              "      <td>262.55</td>\n",
              "    </tr>\n",
              "    <tr>\n",
              "      <th>9976</th>\n",
              "      <td>13/02/2021</td>\n",
              "      <td>Wine I</td>\n",
              "      <td>1996</td>\n",
              "      <td>Red</td>\n",
              "      <td>Portugal</td>\n",
              "      <td>179.73</td>\n",
              "      <td>12</td>\n",
              "      <td>75</td>\n",
              "      <td>2156.76</td>\n",
              "    </tr>\n",
              "    <tr>\n",
              "      <th>9990</th>\n",
              "      <td>16/11/2021</td>\n",
              "      <td>Wine B</td>\n",
              "      <td>1993</td>\n",
              "      <td>Red</td>\n",
              "      <td>Argentina</td>\n",
              "      <td>133.29</td>\n",
              "      <td>8</td>\n",
              "      <td>75</td>\n",
              "      <td>1066.32</td>\n",
              "    </tr>\n",
              "  </tbody>\n",
              "</table>\n",
              "<p>365 rows × 9 columns</p>\n",
              "</div>\n",
              "      <button class=\"colab-df-convert\" onclick=\"convertToInteractive('df-f4053de2-b7ea-41e2-9501-d2f126b5921d')\"\n",
              "              title=\"Convert this dataframe to an interactive table.\"\n",
              "              style=\"display:none;\">\n",
              "        \n",
              "  <svg xmlns=\"http://www.w3.org/2000/svg\" height=\"24px\"viewBox=\"0 0 24 24\"\n",
              "       width=\"24px\">\n",
              "    <path d=\"M0 0h24v24H0V0z\" fill=\"none\"/>\n",
              "    <path d=\"M18.56 5.44l.94 2.06.94-2.06 2.06-.94-2.06-.94-.94-2.06-.94 2.06-2.06.94zm-11 1L8.5 8.5l.94-2.06 2.06-.94-2.06-.94L8.5 2.5l-.94 2.06-2.06.94zm10 10l.94 2.06.94-2.06 2.06-.94-2.06-.94-.94-2.06-.94 2.06-2.06.94z\"/><path d=\"M17.41 7.96l-1.37-1.37c-.4-.4-.92-.59-1.43-.59-.52 0-1.04.2-1.43.59L10.3 9.45l-7.72 7.72c-.78.78-.78 2.05 0 2.83L4 21.41c.39.39.9.59 1.41.59.51 0 1.02-.2 1.41-.59l7.78-7.78 2.81-2.81c.8-.78.8-2.07 0-2.86zM5.41 20L4 18.59l7.72-7.72 1.47 1.35L5.41 20z\"/>\n",
              "  </svg>\n",
              "      </button>\n",
              "      \n",
              "  <style>\n",
              "    .colab-df-container {\n",
              "      display:flex;\n",
              "      flex-wrap:wrap;\n",
              "      gap: 12px;\n",
              "    }\n",
              "\n",
              "    .colab-df-convert {\n",
              "      background-color: #E8F0FE;\n",
              "      border: none;\n",
              "      border-radius: 50%;\n",
              "      cursor: pointer;\n",
              "      display: none;\n",
              "      fill: #1967D2;\n",
              "      height: 32px;\n",
              "      padding: 0 0 0 0;\n",
              "      width: 32px;\n",
              "    }\n",
              "\n",
              "    .colab-df-convert:hover {\n",
              "      background-color: #E2EBFA;\n",
              "      box-shadow: 0px 1px 2px rgba(60, 64, 67, 0.3), 0px 1px 3px 1px rgba(60, 64, 67, 0.15);\n",
              "      fill: #174EA6;\n",
              "    }\n",
              "\n",
              "    [theme=dark] .colab-df-convert {\n",
              "      background-color: #3B4455;\n",
              "      fill: #D2E3FC;\n",
              "    }\n",
              "\n",
              "    [theme=dark] .colab-df-convert:hover {\n",
              "      background-color: #434B5C;\n",
              "      box-shadow: 0px 1px 3px 1px rgba(0, 0, 0, 0.15);\n",
              "      filter: drop-shadow(0px 1px 2px rgba(0, 0, 0, 0.3));\n",
              "      fill: #FFFFFF;\n",
              "    }\n",
              "  </style>\n",
              "\n",
              "      <script>\n",
              "        const buttonEl =\n",
              "          document.querySelector('#df-f4053de2-b7ea-41e2-9501-d2f126b5921d button.colab-df-convert');\n",
              "        buttonEl.style.display =\n",
              "          google.colab.kernel.accessAllowed ? 'block' : 'none';\n",
              "\n",
              "        async function convertToInteractive(key) {\n",
              "          const element = document.querySelector('#df-f4053de2-b7ea-41e2-9501-d2f126b5921d');\n",
              "          const dataTable =\n",
              "            await google.colab.kernel.invokeFunction('convertToInteractive',\n",
              "                                                     [key], {});\n",
              "          if (!dataTable) return;\n",
              "\n",
              "          const docLinkHtml = 'Like what you see? Visit the ' +\n",
              "            '<a target=\"_blank\" href=https://colab.research.google.com/notebooks/data_table.ipynb>data table notebook</a>'\n",
              "            + ' to learn more about interactive tables.';\n",
              "          element.innerHTML = '';\n",
              "          dataTable['output_type'] = 'display_data';\n",
              "          await google.colab.output.renderOutput(dataTable, element);\n",
              "          const docLink = document.createElement('div');\n",
              "          docLink.innerHTML = docLinkHtml;\n",
              "          element.appendChild(docLink);\n",
              "        }\n",
              "      </script>\n",
              "    </div>\n",
              "  </div>\n",
              "  "
            ]
          },
          "metadata": {},
          "execution_count": 163
        }
      ]
    },
    {
      "cell_type": "markdown",
      "source": [
        "### 9. Qual a safra mais antiga?"
      ],
      "metadata": {
        "id": "fKLHjpfwqRRS"
      }
    },
    {
      "cell_type": "code",
      "source": [
        "df['vintage'].min()"
      ],
      "metadata": {
        "colab": {
          "base_uri": "https://localhost:8080/"
        },
        "id": "V0uHKr_uJ6ZB",
        "outputId": "123cf8d2-1f9c-4faf-b44c-b7178387b4ff"
      },
      "execution_count": null,
      "outputs": [
        {
          "output_type": "execute_result",
          "data": {
            "text/plain": [
              "1982"
            ]
          },
          "metadata": {},
          "execution_count": 164
        }
      ]
    },
    {
      "cell_type": "markdown",
      "source": [
        "### 10. Qual a safra mais recente?"
      ],
      "metadata": {
        "id": "Y837UBv8qVR7"
      }
    },
    {
      "cell_type": "code",
      "source": [
        "df['vintage'].max()"
      ],
      "metadata": {
        "colab": {
          "base_uri": "https://localhost:8080/"
        },
        "id": "kYNOQieaKBbX",
        "outputId": "2da05b7c-7cc9-4402-90ca-4a4c26ec6220"
      },
      "execution_count": null,
      "outputs": [
        {
          "output_type": "execute_result",
          "data": {
            "text/plain": [
              "2021"
            ]
          },
          "metadata": {},
          "execution_count": 165
        }
      ]
    },
    {
      "cell_type": "markdown",
      "source": [
        "### 11. Qual país teve mais garrafas vendidas?\n",
        "\n",
        "> Bloco com recuo\n",
        "\n"
      ],
      "metadata": {
        "id": "5XicB-MuqY66"
      }
    },
    {
      "cell_type": "code",
      "source": [
        "df.groupby('country')['quantity'].sum().sort_values(ascending=False).reset_index()[:1]"
      ],
      "metadata": {
        "id": "EseR8AJPKKzi",
        "colab": {
          "base_uri": "https://localhost:8080/",
          "height": 81
        },
        "outputId": "ec8bf921-f012-4a39-8fe7-e18534e07329"
      },
      "execution_count": null,
      "outputs": [
        {
          "output_type": "execute_result",
          "data": {
            "text/plain": [
              "  country  quantity\n",
              "0   Italy      8335"
            ],
            "text/html": [
              "\n",
              "  <div id=\"df-82cbcaf2-4bab-49a9-88f9-b73f0857e08d\">\n",
              "    <div class=\"colab-df-container\">\n",
              "      <div>\n",
              "<style scoped>\n",
              "    .dataframe tbody tr th:only-of-type {\n",
              "        vertical-align: middle;\n",
              "    }\n",
              "\n",
              "    .dataframe tbody tr th {\n",
              "        vertical-align: top;\n",
              "    }\n",
              "\n",
              "    .dataframe thead th {\n",
              "        text-align: right;\n",
              "    }\n",
              "</style>\n",
              "<table border=\"1\" class=\"dataframe\">\n",
              "  <thead>\n",
              "    <tr style=\"text-align: right;\">\n",
              "      <th></th>\n",
              "      <th>country</th>\n",
              "      <th>quantity</th>\n",
              "    </tr>\n",
              "  </thead>\n",
              "  <tbody>\n",
              "    <tr>\n",
              "      <th>0</th>\n",
              "      <td>Italy</td>\n",
              "      <td>8335</td>\n",
              "    </tr>\n",
              "  </tbody>\n",
              "</table>\n",
              "</div>\n",
              "      <button class=\"colab-df-convert\" onclick=\"convertToInteractive('df-82cbcaf2-4bab-49a9-88f9-b73f0857e08d')\"\n",
              "              title=\"Convert this dataframe to an interactive table.\"\n",
              "              style=\"display:none;\">\n",
              "        \n",
              "  <svg xmlns=\"http://www.w3.org/2000/svg\" height=\"24px\"viewBox=\"0 0 24 24\"\n",
              "       width=\"24px\">\n",
              "    <path d=\"M0 0h24v24H0V0z\" fill=\"none\"/>\n",
              "    <path d=\"M18.56 5.44l.94 2.06.94-2.06 2.06-.94-2.06-.94-.94-2.06-.94 2.06-2.06.94zm-11 1L8.5 8.5l.94-2.06 2.06-.94-2.06-.94L8.5 2.5l-.94 2.06-2.06.94zm10 10l.94 2.06.94-2.06 2.06-.94-2.06-.94-.94-2.06-.94 2.06-2.06.94z\"/><path d=\"M17.41 7.96l-1.37-1.37c-.4-.4-.92-.59-1.43-.59-.52 0-1.04.2-1.43.59L10.3 9.45l-7.72 7.72c-.78.78-.78 2.05 0 2.83L4 21.41c.39.39.9.59 1.41.59.51 0 1.02-.2 1.41-.59l7.78-7.78 2.81-2.81c.8-.78.8-2.07 0-2.86zM5.41 20L4 18.59l7.72-7.72 1.47 1.35L5.41 20z\"/>\n",
              "  </svg>\n",
              "      </button>\n",
              "      \n",
              "  <style>\n",
              "    .colab-df-container {\n",
              "      display:flex;\n",
              "      flex-wrap:wrap;\n",
              "      gap: 12px;\n",
              "    }\n",
              "\n",
              "    .colab-df-convert {\n",
              "      background-color: #E8F0FE;\n",
              "      border: none;\n",
              "      border-radius: 50%;\n",
              "      cursor: pointer;\n",
              "      display: none;\n",
              "      fill: #1967D2;\n",
              "      height: 32px;\n",
              "      padding: 0 0 0 0;\n",
              "      width: 32px;\n",
              "    }\n",
              "\n",
              "    .colab-df-convert:hover {\n",
              "      background-color: #E2EBFA;\n",
              "      box-shadow: 0px 1px 2px rgba(60, 64, 67, 0.3), 0px 1px 3px 1px rgba(60, 64, 67, 0.15);\n",
              "      fill: #174EA6;\n",
              "    }\n",
              "\n",
              "    [theme=dark] .colab-df-convert {\n",
              "      background-color: #3B4455;\n",
              "      fill: #D2E3FC;\n",
              "    }\n",
              "\n",
              "    [theme=dark] .colab-df-convert:hover {\n",
              "      background-color: #434B5C;\n",
              "      box-shadow: 0px 1px 3px 1px rgba(0, 0, 0, 0.15);\n",
              "      filter: drop-shadow(0px 1px 2px rgba(0, 0, 0, 0.3));\n",
              "      fill: #FFFFFF;\n",
              "    }\n",
              "  </style>\n",
              "\n",
              "      <script>\n",
              "        const buttonEl =\n",
              "          document.querySelector('#df-82cbcaf2-4bab-49a9-88f9-b73f0857e08d button.colab-df-convert');\n",
              "        buttonEl.style.display =\n",
              "          google.colab.kernel.accessAllowed ? 'block' : 'none';\n",
              "\n",
              "        async function convertToInteractive(key) {\n",
              "          const element = document.querySelector('#df-82cbcaf2-4bab-49a9-88f9-b73f0857e08d');\n",
              "          const dataTable =\n",
              "            await google.colab.kernel.invokeFunction('convertToInteractive',\n",
              "                                                     [key], {});\n",
              "          if (!dataTable) return;\n",
              "\n",
              "          const docLinkHtml = 'Like what you see? Visit the ' +\n",
              "            '<a target=\"_blank\" href=https://colab.research.google.com/notebooks/data_table.ipynb>data table notebook</a>'\n",
              "            + ' to learn more about interactive tables.';\n",
              "          element.innerHTML = '';\n",
              "          dataTable['output_type'] = 'display_data';\n",
              "          await google.colab.output.renderOutput(dataTable, element);\n",
              "          const docLink = document.createElement('div');\n",
              "          docLink.innerHTML = docLinkHtml;\n",
              "          element.appendChild(docLink);\n",
              "        }\n",
              "      </script>\n",
              "    </div>\n",
              "  </div>\n",
              "  "
            ]
          },
          "metadata": {},
          "execution_count": 166
        }
      ]
    },
    {
      "cell_type": "markdown",
      "source": [
        "### 12. Qual país teve menos menos garrafa vendida?"
      ],
      "metadata": {
        "id": "RUq7osguqgxm"
      }
    },
    {
      "cell_type": "code",
      "source": [
        "df.groupby('country')['quantity'].sum().sort_values(ascending=True).reset_index()[:1]"
      ],
      "metadata": {
        "id": "IBUv9eOUinCq",
        "colab": {
          "base_uri": "https://localhost:8080/",
          "height": 81
        },
        "outputId": "08a81c5c-90e2-4093-8d70-237b7c44935c"
      },
      "execution_count": null,
      "outputs": [
        {
          "output_type": "execute_result",
          "data": {
            "text/plain": [
              "  country  quantity\n",
              "0     USA      7402"
            ],
            "text/html": [
              "\n",
              "  <div id=\"df-b8f2ef99-7c5d-4452-b197-6ce986af1c53\">\n",
              "    <div class=\"colab-df-container\">\n",
              "      <div>\n",
              "<style scoped>\n",
              "    .dataframe tbody tr th:only-of-type {\n",
              "        vertical-align: middle;\n",
              "    }\n",
              "\n",
              "    .dataframe tbody tr th {\n",
              "        vertical-align: top;\n",
              "    }\n",
              "\n",
              "    .dataframe thead th {\n",
              "        text-align: right;\n",
              "    }\n",
              "</style>\n",
              "<table border=\"1\" class=\"dataframe\">\n",
              "  <thead>\n",
              "    <tr style=\"text-align: right;\">\n",
              "      <th></th>\n",
              "      <th>country</th>\n",
              "      <th>quantity</th>\n",
              "    </tr>\n",
              "  </thead>\n",
              "  <tbody>\n",
              "    <tr>\n",
              "      <th>0</th>\n",
              "      <td>USA</td>\n",
              "      <td>7402</td>\n",
              "    </tr>\n",
              "  </tbody>\n",
              "</table>\n",
              "</div>\n",
              "      <button class=\"colab-df-convert\" onclick=\"convertToInteractive('df-b8f2ef99-7c5d-4452-b197-6ce986af1c53')\"\n",
              "              title=\"Convert this dataframe to an interactive table.\"\n",
              "              style=\"display:none;\">\n",
              "        \n",
              "  <svg xmlns=\"http://www.w3.org/2000/svg\" height=\"24px\"viewBox=\"0 0 24 24\"\n",
              "       width=\"24px\">\n",
              "    <path d=\"M0 0h24v24H0V0z\" fill=\"none\"/>\n",
              "    <path d=\"M18.56 5.44l.94 2.06.94-2.06 2.06-.94-2.06-.94-.94-2.06-.94 2.06-2.06.94zm-11 1L8.5 8.5l.94-2.06 2.06-.94-2.06-.94L8.5 2.5l-.94 2.06-2.06.94zm10 10l.94 2.06.94-2.06 2.06-.94-2.06-.94-.94-2.06-.94 2.06-2.06.94z\"/><path d=\"M17.41 7.96l-1.37-1.37c-.4-.4-.92-.59-1.43-.59-.52 0-1.04.2-1.43.59L10.3 9.45l-7.72 7.72c-.78.78-.78 2.05 0 2.83L4 21.41c.39.39.9.59 1.41.59.51 0 1.02-.2 1.41-.59l7.78-7.78 2.81-2.81c.8-.78.8-2.07 0-2.86zM5.41 20L4 18.59l7.72-7.72 1.47 1.35L5.41 20z\"/>\n",
              "  </svg>\n",
              "      </button>\n",
              "      \n",
              "  <style>\n",
              "    .colab-df-container {\n",
              "      display:flex;\n",
              "      flex-wrap:wrap;\n",
              "      gap: 12px;\n",
              "    }\n",
              "\n",
              "    .colab-df-convert {\n",
              "      background-color: #E8F0FE;\n",
              "      border: none;\n",
              "      border-radius: 50%;\n",
              "      cursor: pointer;\n",
              "      display: none;\n",
              "      fill: #1967D2;\n",
              "      height: 32px;\n",
              "      padding: 0 0 0 0;\n",
              "      width: 32px;\n",
              "    }\n",
              "\n",
              "    .colab-df-convert:hover {\n",
              "      background-color: #E2EBFA;\n",
              "      box-shadow: 0px 1px 2px rgba(60, 64, 67, 0.3), 0px 1px 3px 1px rgba(60, 64, 67, 0.15);\n",
              "      fill: #174EA6;\n",
              "    }\n",
              "\n",
              "    [theme=dark] .colab-df-convert {\n",
              "      background-color: #3B4455;\n",
              "      fill: #D2E3FC;\n",
              "    }\n",
              "\n",
              "    [theme=dark] .colab-df-convert:hover {\n",
              "      background-color: #434B5C;\n",
              "      box-shadow: 0px 1px 3px 1px rgba(0, 0, 0, 0.15);\n",
              "      filter: drop-shadow(0px 1px 2px rgba(0, 0, 0, 0.3));\n",
              "      fill: #FFFFFF;\n",
              "    }\n",
              "  </style>\n",
              "\n",
              "      <script>\n",
              "        const buttonEl =\n",
              "          document.querySelector('#df-b8f2ef99-7c5d-4452-b197-6ce986af1c53 button.colab-df-convert');\n",
              "        buttonEl.style.display =\n",
              "          google.colab.kernel.accessAllowed ? 'block' : 'none';\n",
              "\n",
              "        async function convertToInteractive(key) {\n",
              "          const element = document.querySelector('#df-b8f2ef99-7c5d-4452-b197-6ce986af1c53');\n",
              "          const dataTable =\n",
              "            await google.colab.kernel.invokeFunction('convertToInteractive',\n",
              "                                                     [key], {});\n",
              "          if (!dataTable) return;\n",
              "\n",
              "          const docLinkHtml = 'Like what you see? Visit the ' +\n",
              "            '<a target=\"_blank\" href=https://colab.research.google.com/notebooks/data_table.ipynb>data table notebook</a>'\n",
              "            + ' to learn more about interactive tables.';\n",
              "          element.innerHTML = '';\n",
              "          dataTable['output_type'] = 'display_data';\n",
              "          await google.colab.output.renderOutput(dataTable, element);\n",
              "          const docLink = document.createElement('div');\n",
              "          docLink.innerHTML = docLinkHtml;\n",
              "          element.appendChild(docLink);\n",
              "        }\n",
              "      </script>\n",
              "    </div>\n",
              "  </div>\n",
              "  "
            ]
          },
          "metadata": {},
          "execution_count": 167
        }
      ]
    },
    {
      "cell_type": "markdown",
      "source": [
        "### 13. Quantos vinhos abaixo de R$100,00 foram vendidos?"
      ],
      "metadata": {
        "id": "_J2VHz1BqmjW"
      }
    },
    {
      "cell_type": "code",
      "source": [
        "df[df['price']<100]['quantity'].sum()"
      ],
      "metadata": {
        "id": "kFSyPoSii3yl",
        "colab": {
          "base_uri": "https://localhost:8080/"
        },
        "outputId": "004bf406-b9bb-4437-e417-c901ca96bcc7"
      },
      "execution_count": null,
      "outputs": [
        {
          "output_type": "execute_result",
          "data": {
            "text/plain": [
              "18195"
            ]
          },
          "metadata": {},
          "execution_count": 168
        }
      ]
    },
    {
      "cell_type": "markdown",
      "source": [
        "### 14. Quantos vinhos acima de R$100,00 foram vendidos?"
      ],
      "metadata": {
        "id": "n9798Bocq5A7"
      }
    },
    {
      "cell_type": "code",
      "source": [
        "df[df['price']>100]['quantity'].sum()"
      ],
      "metadata": {
        "colab": {
          "base_uri": "https://localhost:8080/"
        },
        "id": "Wsi-5vXtjKqp",
        "outputId": "8a7980c7-e0e0-400f-ac5c-15ba805cde3b"
      },
      "execution_count": null,
      "outputs": [
        {
          "output_type": "execute_result",
          "data": {
            "text/plain": [
              "61949"
            ]
          },
          "metadata": {},
          "execution_count": 169
        }
      ]
    },
    {
      "cell_type": "markdown",
      "source": [
        "### 15. Quantos vinhos brancos e rosés \n",
        "\n",
        "1.   Item - brancos\n",
        "2.   Item - rosés\n",
        "\n",
        "foram vendidos nos meses de Janeiro à Março?"
      ],
      "metadata": {
        "id": "vjnN6bTFrKNE"
      }
    },
    {
      "cell_type": "code",
      "source": [
        "df.loc[((df['style']=='White')|(df['style']=='Rose')) & (df['date'].dt.month.isin([1,2,3]))]['quantity'].sum() "
      ],
      "metadata": {
        "id": "BgWiayOF6LGD",
        "colab": {
          "base_uri": "https://localhost:8080/"
        },
        "outputId": "29d15f6a-a6c0-4453-e8a2-19e7e0661e89"
      },
      "execution_count": null,
      "outputs": [
        {
          "output_type": "execute_result",
          "data": {
            "text/plain": [
              "6743"
            ]
          },
          "metadata": {},
          "execution_count": 185
        }
      ]
    },
    {
      "cell_type": "markdown",
      "source": [
        "### 16. Qual foi o faturamento do 1º trimestre de 2021?"
      ],
      "metadata": {
        "id": "A7-r2CXXrU-u"
      }
    },
    {
      "cell_type": "code",
      "source": [
        "df['sub-total'] = df['price']*df['quantity']\n",
        "fat = df.loc[df[\"date\"].dt.month<4]['sub-total'].sum()\n",
        "fat"
      ],
      "metadata": {
        "id": "7hmHC_CW1o5P",
        "colab": {
          "base_uri": "https://localhost:8080/"
        },
        "outputId": "c3dbd819-6f71-4617-b8e1-24d4f0e25e67"
      },
      "execution_count": null,
      "outputs": [
        {
          "output_type": "execute_result",
          "data": {
            "text/plain": [
              "4193529.08"
            ]
          },
          "metadata": {},
          "execution_count": 190
        }
      ]
    }
  ]
}